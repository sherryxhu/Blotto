{
 "cells": [
  {
   "cell_type": "code",
   "execution_count": 1,
   "metadata": {},
   "outputs": [],
   "source": [
    "import pandas as pd\n",
    "import numpy as np"
   ]
  },
  {
   "cell_type": "code",
   "execution_count": 2,
   "metadata": {},
   "outputs": [],
   "source": [
    "df1 = pd.read_csv(\"castle-solutions.csv\")"
   ]
  },
  {
   "cell_type": "code",
   "execution_count": 3,
   "metadata": {},
   "outputs": [
    {
     "data": {
      "text/plain": [
       "(1387, 11)"
      ]
     },
     "execution_count": 3,
     "metadata": {},
     "output_type": "execute_result"
    }
   ],
   "source": [
    "df1.shape"
   ]
  },
  {
   "cell_type": "code",
   "execution_count": 4,
   "metadata": {},
   "outputs": [],
   "source": [
    "df2 = pd.read_csv(\"castle-solutions-2.csv\")"
   ]
  },
  {
   "cell_type": "code",
   "execution_count": 5,
   "metadata": {},
   "outputs": [
    {
     "data": {
      "text/plain": [
       "(932, 11)"
      ]
     },
     "execution_count": 5,
     "metadata": {},
     "output_type": "execute_result"
    }
   ],
   "source": [
    "df2.shape"
   ]
  },
  {
   "cell_type": "code",
   "execution_count": 35,
   "metadata": {},
   "outputs": [
    {
     "data": {
      "text/plain": [
       "(2319, 11)"
      ]
     },
     "execution_count": 35,
     "metadata": {},
     "output_type": "execute_result"
    }
   ],
   "source": [
    "df = df1.append(df2,ignore_index=True)\n",
    "df.shape"
   ]
  },
  {
   "cell_type": "code",
   "execution_count": 7,
   "metadata": {},
   "outputs": [
    {
     "data": {
      "text/html": [
       "<div>\n",
       "<style scoped>\n",
       "    .dataframe tbody tr th:only-of-type {\n",
       "        vertical-align: middle;\n",
       "    }\n",
       "\n",
       "    .dataframe tbody tr th {\n",
       "        vertical-align: top;\n",
       "    }\n",
       "\n",
       "    .dataframe thead th {\n",
       "        text-align: right;\n",
       "    }\n",
       "</style>\n",
       "<table border=\"1\" class=\"dataframe\">\n",
       "  <thead>\n",
       "    <tr style=\"text-align: right;\">\n",
       "      <th></th>\n",
       "      <th>Castle 1</th>\n",
       "      <th>Castle 2</th>\n",
       "      <th>Castle 3</th>\n",
       "      <th>Castle 4</th>\n",
       "      <th>Castle 5</th>\n",
       "      <th>Castle 6</th>\n",
       "      <th>Castle 7</th>\n",
       "      <th>Castle 8</th>\n",
       "      <th>Castle 9</th>\n",
       "      <th>Castle 10</th>\n",
       "      <th>Why did you choose your troop deployment?</th>\n",
       "    </tr>\n",
       "  </thead>\n",
       "  <tbody>\n",
       "    <tr>\n",
       "      <th>0</th>\n",
       "      <td>100.0</td>\n",
       "      <td>0.0</td>\n",
       "      <td>0.0</td>\n",
       "      <td>0.0</td>\n",
       "      <td>0.0</td>\n",
       "      <td>0.0</td>\n",
       "      <td>0.0</td>\n",
       "      <td>0.0</td>\n",
       "      <td>0.0</td>\n",
       "      <td>0.0</td>\n",
       "      <td>because, I am number one!</td>\n",
       "    </tr>\n",
       "    <tr>\n",
       "      <th>1</th>\n",
       "      <td>52.0</td>\n",
       "      <td>2.0</td>\n",
       "      <td>2.0</td>\n",
       "      <td>2.0</td>\n",
       "      <td>2.0</td>\n",
       "      <td>2.0</td>\n",
       "      <td>2.0</td>\n",
       "      <td>12.0</td>\n",
       "      <td>12.0</td>\n",
       "      <td>12.0</td>\n",
       "      <td>I need to win at least 4 castles to win the ga...</td>\n",
       "    </tr>\n",
       "    <tr>\n",
       "      <th>2</th>\n",
       "      <td>26.0</td>\n",
       "      <td>26.0</td>\n",
       "      <td>26.0</td>\n",
       "      <td>16.0</td>\n",
       "      <td>1.0</td>\n",
       "      <td>1.0</td>\n",
       "      <td>1.0</td>\n",
       "      <td>1.0</td>\n",
       "      <td>1.0</td>\n",
       "      <td>1.0</td>\n",
       "      <td>The top 3 are necessary for a majority and the...</td>\n",
       "    </tr>\n",
       "    <tr>\n",
       "      <th>3</th>\n",
       "      <td>26.0</td>\n",
       "      <td>5.0</td>\n",
       "      <td>5.0</td>\n",
       "      <td>5.0</td>\n",
       "      <td>6.0</td>\n",
       "      <td>7.0</td>\n",
       "      <td>26.0</td>\n",
       "      <td>0.0</td>\n",
       "      <td>0.0</td>\n",
       "      <td>0.0</td>\n",
       "      <td>Most people will focus on high number, but cas...</td>\n",
       "    </tr>\n",
       "    <tr>\n",
       "      <th>4</th>\n",
       "      <td>25.0</td>\n",
       "      <td>0.0</td>\n",
       "      <td>0.0</td>\n",
       "      <td>0.0</td>\n",
       "      <td>0.0</td>\n",
       "      <td>0.0</td>\n",
       "      <td>0.0</td>\n",
       "      <td>25.0</td>\n",
       "      <td>25.0</td>\n",
       "      <td>25.0</td>\n",
       "      <td>The total points up for grabs is 55, and to wi...</td>\n",
       "    </tr>\n",
       "  </tbody>\n",
       "</table>\n",
       "</div>"
      ],
      "text/plain": [
       "   Castle 1  Castle 2  Castle 3  Castle 4  Castle 5  Castle 6  Castle 7  \\\n",
       "0     100.0       0.0       0.0       0.0       0.0       0.0       0.0   \n",
       "1      52.0       2.0       2.0       2.0       2.0       2.0       2.0   \n",
       "2      26.0      26.0      26.0      16.0       1.0       1.0       1.0   \n",
       "3      26.0       5.0       5.0       5.0       6.0       7.0      26.0   \n",
       "4      25.0       0.0       0.0       0.0       0.0       0.0       0.0   \n",
       "\n",
       "   Castle 8  Castle 9  Castle 10  \\\n",
       "0       0.0       0.0        0.0   \n",
       "1      12.0      12.0       12.0   \n",
       "2       1.0       1.0        1.0   \n",
       "3       0.0       0.0        0.0   \n",
       "4      25.0      25.0       25.0   \n",
       "\n",
       "           Why did you choose your troop deployment?  \n",
       "0                          because, I am number one!  \n",
       "1  I need to win at least 4 castles to win the ga...  \n",
       "2  The top 3 are necessary for a majority and the...  \n",
       "3  Most people will focus on high number, but cas...  \n",
       "4  The total points up for grabs is 55, and to wi...  "
      ]
     },
     "execution_count": 7,
     "metadata": {},
     "output_type": "execute_result"
    }
   ],
   "source": [
    "df.head()"
   ]
  },
  {
   "cell_type": "code",
   "execution_count": 8,
   "metadata": {},
   "outputs": [],
   "source": [
    "# initialize matrix of 0's\n",
    "# dimensions must be nxn, where n = 2319, or the number of castles\n",
    "win_matrix = np.zeros((2319,2319),dtype=int)"
   ]
  },
  {
   "cell_type": "code",
   "execution_count": 153,
   "metadata": {},
   "outputs": [],
   "source": [
    "# function that takes in two castles\n",
    "# returns 1 if castle 1 wins\n",
    "# returns 0 if castle 1 loses\n",
    "\n",
    "def win(castle_1, castle_2):\n",
    "    points_1 = 0\n",
    "    points_2 = 0\n",
    "    for i in range(0,len(castle_1)-1):\n",
    "        if (points_1)>=20:\n",
    "            return 1 \n",
    "        if (points_2)>=20:\n",
    "            return 0\n",
    "        \n",
    "        if(castle_1[i]>castle_2[i]):\n",
    "            points_1 += i\n",
    "        elif(castle_1[i]<castle_2[i]):\n",
    "            points_2+=i\n",
    "        else:\n",
    "            continue\n",
    "    \n",
    "    if (points_1>points_2):\n",
    "        return 1\n",
    "    return 0"
   ]
  },
  {
   "cell_type": "code",
   "execution_count": 109,
   "metadata": {},
   "outputs": [],
   "source": [
    "for ind, row in df.iterrows():\n",
    "    castle = row.tolist()\n",
    "    for index, rows in df.iterrows():\n",
    "        castle_compare = rows.tolist()\n",
    "        score = win(castle,castle_compare)\n",
    "        win_matrix[ind][index] = score\n",
    "        break"
   ]
  },
  {
   "cell_type": "code",
   "execution_count": 61,
   "metadata": {},
   "outputs": [
    {
     "name": "stdout",
     "output_type": "stream",
     "text": [
      "253\n"
     ]
    }
   ],
   "source": [
    "print(np.sum(win_matrix[3]))"
   ]
  },
  {
   "cell_type": "code",
   "execution_count": 56,
   "metadata": {},
   "outputs": [],
   "source": [
    "# finding high scores\n",
    "\n",
    "d = {}\n",
    "ind = 0\n",
    "for row in win_matrix:\n",
    "    score = np.sum(row)\n",
    "    if ind not in d:\n",
    "        d[ind] = 0\n",
    "    d[ind] = score\n",
    "    ind+=1"
   ]
  },
  {
   "cell_type": "code",
   "execution_count": 63,
   "metadata": {},
   "outputs": [],
   "source": [
    "sorted_dict = sorted(d.items(), key=lambda kv: kv[1], reverse=True)"
   ]
  },
  {
   "cell_type": "code",
   "execution_count": 67,
   "metadata": {},
   "outputs": [
    {
     "name": "stdout",
     "output_type": "stream",
     "text": [
      "(1337, 2186)\n",
      "(1336, 2161)\n",
      "(1272, 2103)\n",
      "(1998, 2006)\n",
      "(1271, 1946)\n",
      "(1992, 1937)\n",
      "(1574, 1934)\n",
      "(920, 1931)\n",
      "(1820, 1921)\n",
      "(1458, 1916)\n"
     ]
    }
   ],
   "source": [
    "for i in range(10):\n",
    "    print(sorted_dict[i])"
   ]
  },
  {
   "cell_type": "code",
   "execution_count": 100,
   "metadata": {},
   "outputs": [
    {
     "name": "stdout",
     "output_type": "stream",
     "text": [
      "Castle 1                                                                                     0\n",
      "Castle 2                                                                                     0\n",
      "Castle 3                                                                                     0\n",
      "Castle 4                                                                                     0\n",
      "Castle 5                                                                                     0\n",
      "Castle 6                                                                                    26\n",
      "Castle 7                                                                                     0\n",
      "Castle 8                                                                                    35\n",
      "Castle 9                                                                                    39\n",
      "Castle 10                                                                                    0\n",
      "Why did you choose your troop deployment?    Winning by higher margins is useless in this g...\n",
      "Name: 1337, dtype: object 2186\n",
      "[0.0, 0.0, 0.0, 0.0, 0.0, 26.0, 0.0, 35.0, 39.0, 0.0, 'Winning by higher margins is useless in this game.  The only thing that matters is getting 23 points.  I figured that I could either spread the risk and provide multiple ways to get 23 points or put all my eggs in one basket.  With these \"multiple simulation\" games, using a risk spreading strategy basically guarantees you will be in the middle of the pack.  I went with a high risk / greater variability strategy to either win outright, or crash spectacularly. ']\n"
     ]
    }
   ],
   "source": [
    "# Top 1\n",
    "print(df.iloc[1337],d[1337])\n",
    "l1 = [0,0,0,0,0,26,0,35,39,0]\n",
    "\n",
    "print(df.iloc[1337].tolist())"
   ]
  },
  {
   "cell_type": "code",
   "execution_count": 88,
   "metadata": {},
   "outputs": [
    {
     "name": "stdout",
     "output_type": "stream",
     "text": [
      "Castle 1                                                                                     0\n",
      "Castle 2                                                                                     0\n",
      "Castle 3                                                                                     0\n",
      "Castle 4                                                                                     0\n",
      "Castle 5                                                                                     0\n",
      "Castle 6                                                                                    29\n",
      "Castle 7                                                                                     0\n",
      "Castle 8                                                                                    34\n",
      "Castle 9                                                                                    37\n",
      "Castle 10                                                                                    0\n",
      "Why did you choose your troop deployment?    55 points total. 23 points to win. In order to...\n",
      "Name: 1336, dtype: object 2161\n"
     ]
    }
   ],
   "source": [
    "print(df.iloc[1336],d[1336])\n",
    "l2 = [0,0,0,0,0,29,0,34,37,0]"
   ]
  },
  {
   "cell_type": "code",
   "execution_count": 91,
   "metadata": {},
   "outputs": [
    {
     "name": "stdout",
     "output_type": "stream",
     "text": [
      "Castle 1                                                                                     0\n",
      "Castle 2                                                                                     0\n",
      "Castle 3                                                                                     0\n",
      "Castle 4                                                                                     2\n",
      "Castle 5                                                                                     0\n",
      "Castle 6                                                                                     0\n",
      "Castle 7                                                                                    28\n",
      "Castle 8                                                                                    34\n",
      "Castle 9                                                                                    34\n",
      "Castle 10                                                                                    2\n",
      "Why did you choose your troop deployment?    28 out of 55 points are required to win (it's ...\n",
      "Name: 1272, dtype: object 2103\n"
     ]
    }
   ],
   "source": [
    "print(df.iloc[1272],d[1272])\n",
    "l3 = [0,0,0,2,0,0,28,34,34,2]"
   ]
  },
  {
   "cell_type": "code",
   "execution_count": 93,
   "metadata": {},
   "outputs": [
    {
     "name": "stdout",
     "output_type": "stream",
     "text": [
      "Castle 1                                                                                     0\n",
      "Castle 2                                                                                     0\n",
      "Castle 3                                                                                     2\n",
      "Castle 4                                                                                    12\n",
      "Castle 5                                                                                    15\n",
      "Castle 6                                                                                     3\n",
      "Castle 7                                                                                    28\n",
      "Castle 8                                                                                    32\n",
      "Castle 9                                                                                     4\n",
      "Castle 10                                                                                    4\n",
      "Why did you choose your troop deployment?    Two above all winning deployments from last ti...\n",
      "Name: 1998, dtype: object\n"
     ]
    }
   ],
   "source": [
    "print(df.iloc[1998])\n",
    "l4=[0,0,2,12,15,3,28,32,4,4]"
   ]
  },
  {
   "cell_type": "code",
   "execution_count": 94,
   "metadata": {},
   "outputs": [
    {
     "name": "stdout",
     "output_type": "stream",
     "text": [
      "Castle 1                                                                                     0\n",
      "Castle 2                                                                                     0\n",
      "Castle 3                                                                                     0\n",
      "Castle 4                                                                                     2\n",
      "Castle 5                                                                                     2\n",
      "Castle 6                                                                                     2\n",
      "Castle 7                                                                                    30\n",
      "Castle 8                                                                                    30\n",
      "Castle 9                                                                                    32\n",
      "Castle 10                                                                                    2\n",
      "Why did you choose your troop deployment?    Get 9/7/8 and then hope the 2 on some other ca...\n",
      "Name: 1271, dtype: object\n"
     ]
    }
   ],
   "source": [
    "print(df.iloc[1271])\n",
    "l5 = [0,0,0,2,2,2,30,30,32,2]"
   ]
  },
  {
   "cell_type": "code",
   "execution_count": 95,
   "metadata": {},
   "outputs": [
    {
     "name": "stdout",
     "output_type": "stream",
     "text": [
      "Castle 1                                                                                     0\n",
      "Castle 2                                                                                     3\n",
      "Castle 3                                                                                     2\n",
      "Castle 4                                                                                    11\n",
      "Castle 5                                                                                    14\n",
      "Castle 6                                                                                     2\n",
      "Castle 7                                                                                    28\n",
      "Castle 8                                                                                    32\n",
      "Castle 9                                                                                     4\n",
      "Castle 10                                                                                    4\n",
      "Why did you choose your troop deployment?    Try to win a few key castles without losing to...\n",
      "Name: 1992, dtype: object\n"
     ]
    }
   ],
   "source": [
    "print(df.iloc[1992])\n",
    "l6 = [0,3,2,11,14,2,28,32,4,4]"
   ]
  },
  {
   "cell_type": "code",
   "execution_count": 96,
   "metadata": {},
   "outputs": [
    {
     "name": "stdout",
     "output_type": "stream",
     "text": [
      "Castle 1                                                                                     1\n",
      "Castle 2                                                                                     1\n",
      "Castle 3                                                                                     8\n",
      "Castle 4                                                                                    13\n",
      "Castle 5                                                                                    15\n",
      "Castle 6                                                                                    21\n",
      "Castle 7                                                                                    23\n",
      "Castle 8                                                                                     6\n",
      "Castle 9                                                                                     6\n",
      "Castle 10                                                                                    6\n",
      "Why did you choose your troop deployment?    Because I wanted to win. Also, a modified depl...\n",
      "Name: 1574, dtype: object\n"
     ]
    }
   ],
   "source": [
    "print(df.iloc[1574])\n",
    "l7 = [1,1,8,13,15,21,23,6,6,6]"
   ]
  },
  {
   "cell_type": "code",
   "execution_count": 97,
   "metadata": {},
   "outputs": [
    {
     "name": "stdout",
     "output_type": "stream",
     "text": [
      "Castle 1                                                                                     1\n",
      "Castle 2                                                                                     1\n",
      "Castle 3                                                                                     1\n",
      "Castle 4                                                                                     1\n",
      "Castle 5                                                                                     1\n",
      "Castle 6                                                                                     1\n",
      "Castle 7                                                                                    31\n",
      "Castle 8                                                                                    31\n",
      "Castle 9                                                                                    31\n",
      "Castle 10                                                                                    1\n",
      "Why did you choose your troop deployment?    Always have at least 1 at each castle to claim...\n",
      "Name: 920, dtype: object\n"
     ]
    }
   ],
   "source": [
    "print(df.iloc[920])\n",
    "l8 = [1,1,1,1,1,1,31,31,31,1]"
   ]
  },
  {
   "cell_type": "code",
   "execution_count": 98,
   "metadata": {},
   "outputs": [
    {
     "name": "stdout",
     "output_type": "stream",
     "text": [
      "Castle 1                                                                                     0\n",
      "Castle 2                                                                                     0\n",
      "Castle 3                                                                                     2\n",
      "Castle 4                                                                                     2\n",
      "Castle 5                                                                                    11\n",
      "Castle 6                                                                                    21\n",
      "Castle 7                                                                                     3\n",
      "Castle 8                                                                                    31\n",
      "Castle 9                                                                                    26\n",
      "Castle 10                                                                                    4\n",
      "Why did you choose your troop deployment?    Brute force computation finding a deployment t...\n",
      "Name: 1820, dtype: object\n"
     ]
    }
   ],
   "source": [
    "print(df.iloc[1820])\n",
    "l9 = [0,0,2,2,11,21,3,31,26,4]"
   ]
  },
  {
   "cell_type": "code",
   "execution_count": 99,
   "metadata": {},
   "outputs": [
    {
     "name": "stdout",
     "output_type": "stream",
     "text": [
      "Castle 1                                                                                     0\n",
      "Castle 2                                                                                     2\n",
      "Castle 3                                                                                     3\n",
      "Castle 4                                                                                     3\n",
      "Castle 5                                                                                    12\n",
      "Castle 6                                                                                    22\n",
      "Castle 7                                                                                     3\n",
      "Castle 8                                                                                    26\n",
      "Castle 9                                                                                    21\n",
      "Castle 10                                                                                    8\n",
      "Why did you choose your troop deployment?    I built a spreadsheet to test different strate...\n",
      "Name: 1458, dtype: object\n"
     ]
    }
   ],
   "source": [
    "print(df.iloc[1458])\n",
    "l10 = [0,2,3,3,12,22,3,26,21,8]"
   ]
  },
  {
   "cell_type": "code",
   "execution_count": 118,
   "metadata": {},
   "outputs": [],
   "source": [
    "def beats(castle):\n",
    "    count = 0\n",
    "    for ind,rows in df.iterrows():\n",
    "        castle2 = rows.tolist()\n",
    "        if(win(castle,castle2)):\n",
    "            count+=1\n",
    "    return count"
   ]
  },
  {
   "cell_type": "code",
   "execution_count": 188,
   "metadata": {},
   "outputs": [
    {
     "name": "stdout",
     "output_type": "stream",
     "text": [
      "1607\n",
      "2184\n",
      "194\n"
     ]
    }
   ],
   "source": [
    "# Top = 2186\n",
    "mytest = [0,0,0,2,13,25,30,25,4,1,'lol']\n",
    "dori = [0,0,1,0,0,26,0,35,38,0,\"dori dori dori\"]\n",
    "sherro = [0,2,5,24,30,39,0,0,0,0]\n",
    "print(beats(mytest))\n",
    "print(beats(dori))\n",
    "print(beats(sherro))"
   ]
  },
  {
   "cell_type": "code",
   "execution_count": null,
   "metadata": {},
   "outputs": [],
   "source": []
  }
 ],
 "metadata": {
  "kernelspec": {
   "display_name": "Python 3",
   "language": "python",
   "name": "python3"
  },
  "language_info": {
   "codemirror_mode": {
    "name": "ipython",
    "version": 3
   },
   "file_extension": ".py",
   "mimetype": "text/x-python",
   "name": "python",
   "nbconvert_exporter": "python",
   "pygments_lexer": "ipython3",
   "version": "3.6.4"
  }
 },
 "nbformat": 4,
 "nbformat_minor": 2
}
